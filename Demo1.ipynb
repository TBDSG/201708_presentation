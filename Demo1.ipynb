{
 "cells": [
  {
   "cell_type": "markdown",
   "metadata": {},
   "source": [
    "## Import Libraries and Packages"
   ]
  },
  {
   "cell_type": "code",
   "execution_count": 1,
   "metadata": {
    "collapsed": true
   },
   "outputs": [],
   "source": [
    "from AhmedTweets import ckey, csecret, atoken, asecret\n",
    "from tweepy.streaming import StreamListener\n",
    "from tweepy import OAuthHandler\n",
    "from tweepy import Stream\n",
    "import json \n",
    "import pandas as pd\n",
    "import textblob"
   ]
  },
  {
   "cell_type": "markdown",
   "metadata": {},
   "source": [
    "## Set twitter Authentication"
   ]
  },
  {
   "cell_type": "markdown",
   "metadata": {},
   "source": [
    "https://dev.twitter.com/"
   ]
  },
  {
   "cell_type": "code",
   "execution_count": 2,
   "metadata": {
    "collapsed": true
   },
   "outputs": [],
   "source": [
    "access_token = atoken\n",
    "access_token_secret = asecret\n",
    "consumer_key = ckey\n",
    "consumer_secret = csecret"
   ]
  },
  {
   "cell_type": "code",
   "execution_count": 3,
   "metadata": {
    "collapsed": true
   },
   "outputs": [],
   "source": [
    "count = 0\n",
    "#This is a basic listener that just prints received tweets to stdout.\n",
    "all_tweets = []\n",
    "all_users = []\n",
    "all_followers_count = []\n",
    "all_sentiment_count = []"
   ]
  },
  {
   "cell_type": "markdown",
   "metadata": {},
   "source": [
    "## Execute the tweepy functions and classes"
   ]
  },
  {
   "cell_type": "markdown",
   "metadata": {},
   "source": [
    "### For further documentation, visit the following website:\n",
    "http://tweepy.readthedocs.io/"
   ]
  },
  {
   "cell_type": "code",
   "execution_count": 4,
   "metadata": {
    "collapsed": true
   },
   "outputs": [],
   "source": [
    "class output(StreamListener):\n",
    "    \n",
    "    def on_data(self, data):\n",
    "        \n",
    "        global count\n",
    "        json_data = json.loads(data)\n",
    "        tweet_data = json_data['text']\n",
    "        tweet_user = json_data['user'][\"screen_name\"]\n",
    "        favorites_count = json_data['user']['favourites_count']\n",
    "        tweet_sentiment = textblob.TextBlob(tweet_data).sentiment.polarity\n",
    "        count = count+1\n",
    "        print('---------')\n",
    "        print(count)\n",
    "        print(tweet_data)\n",
    "        print(tweet_sentiment)\n",
    "        print(tweet_user)\n",
    "        print(favorites_count)\n",
    "        \n",
    "        if count ==10:\n",
    "            return False\n",
    "        else:\n",
    "            return True\n",
    "\n",
    "    def on_error(self, status):\n",
    "        print('This is the error: '+str(status))\n"
   ]
  },
  {
   "cell_type": "markdown",
   "metadata": {},
   "source": [
    "## Set your authentication from twitter and your search item to filter specific tweets"
   ]
  },
  {
   "cell_type": "code",
   "execution_count": 5,
   "metadata": {},
   "outputs": [
    {
     "name": "stdout",
     "output_type": "stream",
     "text": [
      "---------\n",
      "1\n",
      "Introduction To \n",
      "Machine Learning \n",
      "With Python\n",
      "https://t.co/jb782tcbAd https://t.co/1gicXIGtwg\n",
      "0.0\n",
      "DCarinzia\n",
      "2499\n",
      "---------\n",
      "2\n",
      "RT @SatoshiThermoph: エクセルで書いたグラフをイラレでなぞるとかいう頭おかしい行為をしなくて済むように、Python のMatplotlib の使い方をブログに書くか・・・。\n",
      "0.0\n",
      "solairo_mansaku\n",
      "5197\n",
      "---------\n",
      "3\n",
      "Want to help shape Flightradar24? We’re looking for a talented C++ / Python dev! Work in 🇸🇪 or around\n",
      " the 🌎.\n",
      "\n",
      "👉… https://t.co/VZnxjI4LJW\n",
      "0.875\n",
      "flightradar24\n",
      "5671\n",
      "---------\n",
      "4\n",
      "RT @NickPersico: Come work with me and 22 other awesome people! 🚀 https://t.co/O90hcE0rPT\n",
      "0.4375\n",
      "wadefoley22\n",
      "6963\n",
      "---------\n",
      "5\n",
      "SegyIO 1.3.0: Simple &amp; fast IO for SEG-Y files https://t.co/0s077173Sa\n",
      "0.1\n",
      "pypi_updates2\n",
      "1\n",
      "---------\n",
      "6\n",
      "ppgr 0.4.3: Python Piped GRapher https://t.co/f7pD22D3sy\n",
      "0.0\n",
      "pypi_updates2\n",
      "1\n",
      "---------\n",
      "7\n",
      "snipsskills 0.1.4.883: Snips Skills Manager https://t.co/R8V9cvM2rL\n",
      "0.0\n",
      "pypi_updates2\n",
      "1\n",
      "---------\n",
      "8\n",
      "fast_dbscan 0.1.1: fast dbscan clustering on peptide strings https://t.co/QYjNauznj4\n",
      "0.2\n",
      "pypi_updates2\n",
      "1\n",
      "---------\n",
      "9\n",
      "wagtailsocialfeed 0.4.0: A Wagtail module that provides pages and content b... https://t.co/YRxzW5PiFp\n",
      "0.0\n",
      "pypi_updates2\n",
      "1\n",
      "---------\n",
      "10\n",
      "django-html-dumper 0.2.5: Dumps html pages and their corresponding assets ... https://t.co/nXxKpCLEV3\n",
      "0.0\n",
      "pypi_updates2\n",
      "1\n"
     ]
    }
   ],
   "source": [
    "auth = OAuthHandler(consumer_key,consumer_secret)\n",
    "auth.set_access_token(access_token, access_token_secret)\n",
    "stream = Stream(auth, output())\n",
    "    \n",
    "stream.filter(track=['python'])"
   ]
  },
  {
   "cell_type": "code",
   "execution_count": null,
   "metadata": {
    "collapsed": true
   },
   "outputs": [],
   "source": []
  }
 ],
 "metadata": {
  "kernelspec": {
   "display_name": "Python 3",
   "language": "python",
   "name": "python3"
  },
  "language_info": {
   "codemirror_mode": {
    "name": "ipython",
    "version": 3
   },
   "file_extension": ".py",
   "mimetype": "text/x-python",
   "name": "python",
   "nbconvert_exporter": "python",
   "pygments_lexer": "ipython3",
   "version": "3.6.1"
  }
 },
 "nbformat": 4,
 "nbformat_minor": 2
}
